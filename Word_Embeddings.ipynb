{
  "cells": [
    {
      "cell_type": "code",
      "execution_count": 1,
      "metadata": {
        "colab": {
          "base_uri": "https://localhost:8080/"
        },
        "id": "71VckpIOl3fk",
        "outputId": "d2417c57-cee4-48a9-b09b-51765ca584fa"
      },
      "outputs": [
        {
          "name": "stdout",
          "output_type": "stream",
          "text": [
            "Requirement already satisfied: tensorflow in /usr/local/lib/python3.10/dist-packages (2.15.0)\n",
            "Requirement already satisfied: absl-py>=1.0.0 in /usr/local/lib/python3.10/dist-packages (from tensorflow) (1.4.0)\n",
            "Requirement already satisfied: astunparse>=1.6.0 in /usr/local/lib/python3.10/dist-packages (from tensorflow) (1.6.3)\n",
            "Requirement already satisfied: flatbuffers>=23.5.26 in /usr/local/lib/python3.10/dist-packages (from tensorflow) (24.3.25)\n",
            "Requirement already satisfied: gast!=0.5.0,!=0.5.1,!=0.5.2,>=0.2.1 in /usr/local/lib/python3.10/dist-packages (from tensorflow) (0.5.4)\n",
            "Requirement already satisfied: google-pasta>=0.1.1 in /usr/local/lib/python3.10/dist-packages (from tensorflow) (0.2.0)\n",
            "Requirement already satisfied: h5py>=2.9.0 in /usr/local/lib/python3.10/dist-packages (from tensorflow) (3.9.0)\n",
            "Requirement already satisfied: libclang>=13.0.0 in /usr/local/lib/python3.10/dist-packages (from tensorflow) (18.1.1)\n",
            "Requirement already satisfied: ml-dtypes~=0.2.0 in /usr/local/lib/python3.10/dist-packages (from tensorflow) (0.2.0)\n",
            "Requirement already satisfied: numpy<2.0.0,>=1.23.5 in /usr/local/lib/python3.10/dist-packages (from tensorflow) (1.25.2)\n",
            "Requirement already satisfied: opt-einsum>=2.3.2 in /usr/local/lib/python3.10/dist-packages (from tensorflow) (3.3.0)\n",
            "Requirement already satisfied: packaging in /usr/local/lib/python3.10/dist-packages (from tensorflow) (24.0)\n",
            "Requirement already satisfied: protobuf!=4.21.0,!=4.21.1,!=4.21.2,!=4.21.3,!=4.21.4,!=4.21.5,<5.0.0dev,>=3.20.3 in /usr/local/lib/python3.10/dist-packages (from tensorflow) (3.20.3)\n",
            "Requirement already satisfied: setuptools in /usr/local/lib/python3.10/dist-packages (from tensorflow) (67.7.2)\n",
            "Requirement already satisfied: six>=1.12.0 in /usr/local/lib/python3.10/dist-packages (from tensorflow) (1.16.0)\n",
            "Requirement already satisfied: termcolor>=1.1.0 in /usr/local/lib/python3.10/dist-packages (from tensorflow) (2.4.0)\n",
            "Requirement already satisfied: typing-extensions>=3.6.6 in /usr/local/lib/python3.10/dist-packages (from tensorflow) (4.10.0)\n",
            "Requirement already satisfied: wrapt<1.15,>=1.11.0 in /usr/local/lib/python3.10/dist-packages (from tensorflow) (1.14.1)\n",
            "Requirement already satisfied: tensorflow-io-gcs-filesystem>=0.23.1 in /usr/local/lib/python3.10/dist-packages (from tensorflow) (0.36.0)\n",
            "Requirement already satisfied: grpcio<2.0,>=1.24.3 in /usr/local/lib/python3.10/dist-packages (from tensorflow) (1.62.1)\n",
            "Requirement already satisfied: tensorboard<2.16,>=2.15 in /usr/local/lib/python3.10/dist-packages (from tensorflow) (2.15.2)\n",
            "Requirement already satisfied: tensorflow-estimator<2.16,>=2.15.0 in /usr/local/lib/python3.10/dist-packages (from tensorflow) (2.15.0)\n",
            "Requirement already satisfied: keras<2.16,>=2.15.0 in /usr/local/lib/python3.10/dist-packages (from tensorflow) (2.15.0)\n",
            "Requirement already satisfied: wheel<1.0,>=0.23.0 in /usr/local/lib/python3.10/dist-packages (from astunparse>=1.6.0->tensorflow) (0.43.0)\n",
            "Requirement already satisfied: google-auth<3,>=1.6.3 in /usr/local/lib/python3.10/dist-packages (from tensorboard<2.16,>=2.15->tensorflow) (2.27.0)\n",
            "Requirement already satisfied: google-auth-oauthlib<2,>=0.5 in /usr/local/lib/python3.10/dist-packages (from tensorboard<2.16,>=2.15->tensorflow) (1.2.0)\n",
            "Requirement already satisfied: markdown>=2.6.8 in /usr/local/lib/python3.10/dist-packages (from tensorboard<2.16,>=2.15->tensorflow) (3.6)\n",
            "Requirement already satisfied: requests<3,>=2.21.0 in /usr/local/lib/python3.10/dist-packages (from tensorboard<2.16,>=2.15->tensorflow) (2.31.0)\n",
            "Requirement already satisfied: tensorboard-data-server<0.8.0,>=0.7.0 in /usr/local/lib/python3.10/dist-packages (from tensorboard<2.16,>=2.15->tensorflow) (0.7.2)\n",
            "Requirement already satisfied: werkzeug>=1.0.1 in /usr/local/lib/python3.10/dist-packages (from tensorboard<2.16,>=2.15->tensorflow) (3.0.2)\n",
            "Requirement already satisfied: cachetools<6.0,>=2.0.0 in /usr/local/lib/python3.10/dist-packages (from google-auth<3,>=1.6.3->tensorboard<2.16,>=2.15->tensorflow) (5.3.3)\n",
            "Requirement already satisfied: pyasn1-modules>=0.2.1 in /usr/local/lib/python3.10/dist-packages (from google-auth<3,>=1.6.3->tensorboard<2.16,>=2.15->tensorflow) (0.4.0)\n",
            "Requirement already satisfied: rsa<5,>=3.1.4 in /usr/local/lib/python3.10/dist-packages (from google-auth<3,>=1.6.3->tensorboard<2.16,>=2.15->tensorflow) (4.9)\n",
            "Requirement already satisfied: requests-oauthlib>=0.7.0 in /usr/local/lib/python3.10/dist-packages (from google-auth-oauthlib<2,>=0.5->tensorboard<2.16,>=2.15->tensorflow) (1.3.1)\n",
            "Requirement already satisfied: charset-normalizer<4,>=2 in /usr/local/lib/python3.10/dist-packages (from requests<3,>=2.21.0->tensorboard<2.16,>=2.15->tensorflow) (3.3.2)\n",
            "Requirement already satisfied: idna<4,>=2.5 in /usr/local/lib/python3.10/dist-packages (from requests<3,>=2.21.0->tensorboard<2.16,>=2.15->tensorflow) (3.6)\n",
            "Requirement already satisfied: urllib3<3,>=1.21.1 in /usr/local/lib/python3.10/dist-packages (from requests<3,>=2.21.0->tensorboard<2.16,>=2.15->tensorflow) (2.0.7)\n",
            "Requirement already satisfied: certifi>=2017.4.17 in /usr/local/lib/python3.10/dist-packages (from requests<3,>=2.21.0->tensorboard<2.16,>=2.15->tensorflow) (2024.2.2)\n",
            "Requirement already satisfied: MarkupSafe>=2.1.1 in /usr/local/lib/python3.10/dist-packages (from werkzeug>=1.0.1->tensorboard<2.16,>=2.15->tensorflow) (2.1.5)\n",
            "Requirement already satisfied: pyasn1<0.7.0,>=0.4.6 in /usr/local/lib/python3.10/dist-packages (from pyasn1-modules>=0.2.1->google-auth<3,>=1.6.3->tensorboard<2.16,>=2.15->tensorflow) (0.6.0)\n",
            "Requirement already satisfied: oauthlib>=3.0.0 in /usr/local/lib/python3.10/dist-packages (from requests-oauthlib>=0.7.0->google-auth-oauthlib<2,>=0.5->tensorboard<2.16,>=2.15->tensorflow) (3.2.2)\n"
          ]
        }
      ],
      "source": [
        "!pip install tensorflow"
      ]
    },
    {
      "cell_type": "code",
      "execution_count": 3,
      "metadata": {
        "colab": {
          "base_uri": "https://localhost:8080/"
        },
        "id": "OY4tPEvemZpJ",
        "outputId": "7bdc9ff3-276e-42a1-967a-248a33376245"
      },
      "outputs": [
        {
          "name": "stdout",
          "output_type": "stream",
          "text": [
            "2.15.0\n"
          ]
        }
      ],
      "source": [
        "import tensorflow as tf\n",
        "print(tf.__version__)"
      ]
    },
    {
      "cell_type": "code",
      "execution_count": 5,
      "metadata": {
        "id": "GTV3yc4GmE3M"
      },
      "outputs": [],
      "source": [
        "from tensorflow.keras.preprocessing.text import one_hot"
      ]
    },
    {
      "cell_type": "code",
      "execution_count": 36,
      "metadata": {
        "id": "B_RhvB_emVeK"
      },
      "outputs": [],
      "source": [
        "sent = ['a cat chased mice eagerly',\n",
        "        'birds chirped loudly outside',\n",
        "        'the sun shone brightly overhead' ,\n",
        "        'raindrops fell softly, steadily',\n",
        "        'children laughed joyfully, playing outside',\n",
        "        'flowers bloomed beautifully in gardens',\n",
        "        'the wind whispered secrets gently']"
      ]
    },
    {
      "cell_type": "code",
      "execution_count": 37,
      "metadata": {
        "colab": {
          "base_uri": "https://localhost:8080/"
        },
        "id": "Q5ZGKkwHnKH5",
        "outputId": "4bdad65e-381a-4a87-8bae-41bc362915f8"
      },
      "outputs": [
        {
          "data": {
            "text/plain": [
              "['a cat chased mice eagerly',\n",
              " 'birds chirped loudly outside',\n",
              " 'the sun shone brightly overhead',\n",
              " 'raindrops fell softly, steadily',\n",
              " 'children laughed joyfully, playing outside',\n",
              " 'flowers bloomed beautifully in gardens',\n",
              " 'the wind whispered secrets gently']"
            ]
          },
          "execution_count": 37,
          "metadata": {},
          "output_type": "execute_result"
        }
      ],
      "source": [
        "sent"
      ]
    },
    {
      "cell_type": "code",
      "execution_count": 40,
      "metadata": {
        "id": "rAV1tXXwnLhv"
      },
      "outputs": [],
      "source": [
        "## You should specificallly mention the Vocabulary size\n",
        "#say ,\n",
        "voc_size = 10000\n",
        "\n",
        "#the larger voc size means the larger feature representation you gonna get"
      ]
    },
    {
      "cell_type": "markdown",
      "metadata": {
        "id": "wE4kz-N7nh1t"
      },
      "source": [
        "## One Hot Encoding"
      ]
    },
    {
      "cell_type": "code",
      "execution_count": 39,
      "metadata": {
        "colab": {
          "base_uri": "https://localhost:8080/"
        },
        "id": "S7BgnalgnjxO",
        "outputId": "2c572ddf-865b-4874-a6c0-d5b5f567ed9b"
      },
      "outputs": [
        {
          "name": "stdout",
          "output_type": "stream",
          "text": [
            "[[2497, 7363, 4683, 5423, 4867], [1410, 8563, 7621, 5685], [1445, 8935, 722, 9767, 1686], [2538, 7524, 7279, 2594], [8765, 3874, 7414, 5193, 5685], [2755, 7797, 4870, 8367, 1173], [1445, 829, 5471, 3603, 5116]]\n"
          ]
        }
      ],
      "source": [
        "onehot_rep=[one_hot(words,voc_size)for words in sent]\n",
        "print(onehot_rep)"
      ]
    },
    {
      "cell_type": "markdown",
      "metadata": {
        "id": "VlQ17ptWqIyv"
      },
      "source": [
        "As you see the vocabulary size of each sentence is different . In neural networds inorder to train the models the size should be fixed or should be of equal size."
      ]
    },
    {
      "cell_type": "markdown",
      "metadata": {
        "id": "7ufMb9wcqhax"
      },
      "source": [
        "So we are going to do **prepadding and post padding**"
      ]
    },
    {
      "cell_type": "markdown",
      "metadata": {
        "id": "paxQbwZSrKMA"
      },
      "source": [
        "## Word Embedding Representation"
      ]
    },
    {
      "cell_type": "code",
      "execution_count": 41,
      "metadata": {
        "id": "904lPfZqnyxm"
      },
      "outputs": [],
      "source": [
        "from tensorflow.keras.layers import Embedding\n",
        "from tensorflow.keras.preprocessing.sequence import pad_sequences\n",
        "from tensorflow.keras.models import Sequential"
      ]
    },
    {
      "cell_type": "code",
      "execution_count": 42,
      "metadata": {
        "id": "i2LgBjksrQJz"
      },
      "outputs": [],
      "source": [
        "import numpy as np"
      ]
    },
    {
      "cell_type": "markdown",
      "metadata": {
        "id": "H4wuAi40rXIO"
      },
      "source": [
        "**Prepadding**"
      ]
    },
    {
      "cell_type": "code",
      "execution_count": 46,
      "metadata": {
        "colab": {
          "base_uri": "https://localhost:8080/"
        },
        "id": "JAf7O7xRrSBk",
        "outputId": "47d02829-95f2-4160-8bc9-4e0c7d8df03c"
      },
      "outputs": [
        {
          "name": "stdout",
          "output_type": "stream",
          "text": [
            "[[   0 2497 7363 4683 5423 4867]\n",
            " [   0    0 1410 8563 7621 5685]\n",
            " [   0 1445 8935  722 9767 1686]\n",
            " [   0    0 2538 7524 7279 2594]\n",
            " [   0 8765 3874 7414 5193 5685]\n",
            " [   0 2755 7797 4870 8367 1173]\n",
            " [   0 1445  829 5471 3603 5116]]\n"
          ]
        }
      ],
      "source": [
        "sent_length=6\n",
        "embedded_docs=pad_sequences(onehot_rep,padding='pre',maxlen=sent_length)\n",
        "print(embedded_docs)"
      ]
    },
    {
      "cell_type": "markdown",
      "metadata": {
        "id": "ZvZSrN30ritJ"
      },
      "source": [
        "**Postpadding**"
      ]
    },
    {
      "cell_type": "code",
      "execution_count": 47,
      "metadata": {
        "colab": {
          "base_uri": "https://localhost:8080/"
        },
        "id": "o9rc8OAurZaX",
        "outputId": "6d267500-ca29-4281-bc2c-8084814d3074"
      },
      "outputs": [
        {
          "name": "stdout",
          "output_type": "stream",
          "text": [
            "[[2497 7363 4683 5423 4867    0]\n",
            " [1410 8563 7621 5685    0    0]\n",
            " [1445 8935  722 9767 1686    0]\n",
            " [2538 7524 7279 2594    0    0]\n",
            " [8765 3874 7414 5193 5685    0]\n",
            " [2755 7797 4870 8367 1173    0]\n",
            " [1445  829 5471 3603 5116    0]]\n"
          ]
        }
      ],
      "source": [
        "sent_length=6\n",
        "embedded_docs=pad_sequences(onehot_rep,padding='post',maxlen=sent_length)\n",
        "print(embedded_docs)"
      ]
    },
    {
      "cell_type": "markdown",
      "metadata": {
        "id": "Ssrt-z8Yr10Q"
      },
      "source": [
        "Now we have to convert each and every value to vectors"
      ]
    },
    {
      "cell_type": "code",
      "execution_count": 51,
      "metadata": {
        "id": "GziJXpK9rkqN"
      },
      "outputs": [],
      "source": [
        "dim=10 #feature representation"
      ]
    },
    {
      "cell_type": "code",
      "execution_count": 49,
      "metadata": {
        "id": "HVGN5ZQ7sK-B"
      },
      "outputs": [],
      "source": [
        "model=Sequential()\n",
        "model.add(Embedding(voc_size,10,input_length=sent_length))\n",
        "model.compile('adam','mse')"
      ]
    },
    {
      "cell_type": "code",
      "execution_count": 50,
      "metadata": {
        "colab": {
          "base_uri": "https://localhost:8080/"
        },
        "id": "_Xjf-qPBsd63",
        "outputId": "ef2242f2-0fed-45f9-86e9-7362d12761ca"
      },
      "outputs": [
        {
          "name": "stdout",
          "output_type": "stream",
          "text": [
            "Model: \"sequential\"\n",
            "_________________________________________________________________\n",
            " Layer (type)                Output Shape              Param #   \n",
            "=================================================================\n",
            " embedding (Embedding)       (None, 6, 10)             100000    \n",
            "                                                                 \n",
            "=================================================================\n",
            "Total params: 100000 (390.62 KB)\n",
            "Trainable params: 100000 (390.62 KB)\n",
            "Non-trainable params: 0 (0.00 Byte)\n",
            "_________________________________________________________________\n"
          ]
        }
      ],
      "source": [
        "model.summary()"
      ]
    },
    {
      "cell_type": "code",
      "execution_count": 53,
      "metadata": {
        "colab": {
          "base_uri": "https://localhost:8080/"
        },
        "id": "uw_OBvYMs-hb",
        "outputId": "0ff5c3f2-0b62-4da5-96e3-76fab4d34e9a"
      },
      "outputs": [
        {
          "data": {
            "text/plain": [
              "array([2497, 7363, 4683, 5423, 4867,    0], dtype=int32)"
            ]
          },
          "execution_count": 53,
          "metadata": {},
          "output_type": "execute_result"
        }
      ],
      "source": [
        "embedded_docs[0]"
      ]
    },
    {
      "cell_type": "code",
      "execution_count": 52,
      "metadata": {
        "colab": {
          "base_uri": "https://localhost:8080/"
        },
        "id": "n0dYKBkTsfuY",
        "outputId": "db242de4-9e78-4554-eac3-ae80c5c8d753"
      },
      "outputs": [
        {
          "name": "stdout",
          "output_type": "stream",
          "text": [
            "1/1 [==============================] - 0s 120ms/step\n"
          ]
        },
        {
          "data": {
            "text/plain": [
              "array([[ 0.01575037,  0.00657766, -0.00341181,  0.04891651, -0.02684499,\n",
              "        -0.00349045,  0.03433845,  0.0156437 ,  0.01099253,  0.035834  ],\n",
              "       [ 0.01452811, -0.04468718, -0.01522182, -0.00552497,  0.04648506,\n",
              "        -0.04169091, -0.04268931, -0.03297973,  0.02919353, -0.0290315 ],\n",
              "       [ 0.01087821, -0.00570152,  0.04836578, -0.00329616,  0.04430432,\n",
              "         0.0070483 , -0.01467556, -0.00146109,  0.0085188 ,  0.02241153],\n",
              "       [-0.01207951, -0.02120587, -0.00305631, -0.00450524, -0.00044464,\n",
              "        -0.04658449,  0.02420778,  0.01160377,  0.02501697, -0.04734511],\n",
              "       [-0.01639165,  0.04157256,  0.03324279, -0.03139301, -0.03876275,\n",
              "         0.02287107,  0.03240244,  0.03022284,  0.03666368, -0.02100646],\n",
              "       [-0.02821031, -0.04106817,  0.04485799, -0.02013882,  0.04745186,\n",
              "        -0.01806557,  0.01379782, -0.03392436,  0.02320048,  0.01766099]],\n",
              "      dtype=float32)"
            ]
          },
          "execution_count": 52,
          "metadata": {},
          "output_type": "execute_result"
        }
      ],
      "source": [
        "model.predict(embedded_docs[0])"
      ]
    },
    {
      "cell_type": "markdown",
      "metadata": {
        "id": "pyHcOzQxtGnN"
      },
      "source": [
        "1.\n",
        "**2497** represented by [ 0.01575037,  0.00657766, -0.00341181,  0.04891651, -0.02684499,\n",
        "        -0.00349045,  0.03433845,  0.0156437 ,  0.01099253,  0.035834  ]\n",
        "\n",
        "2.\n",
        "**7363** by **[ 0.01452811, -0.04468718, -0.01522182, -0.00552497,  0.04648506,\n",
        "        -0.04169091, -0.04268931, -0.03297973,  0.02919353, -0.0290315 ]**\n",
        "and so on\n",
        "\n",
        "\n",
        "\n"
      ]
    },
    {
      "cell_type": "code",
      "execution_count": 54,
      "metadata": {
        "id": "MNxZ06m_s2Hp"
      },
      "outputs": [],
      "source": [
        "##Assignment"
      ]
    },
    {
      "cell_type": "code",
      "execution_count": 55,
      "metadata": {
        "id": "QfsQ6n0tt-rc"
      },
      "outputs": [],
      "source": [
        "sent2=[\"The world is a better place\",\n",
        "      \"Marvel series is my favourite movie\",\n",
        "      \"I like DC movies\",\n",
        "      \"the cat is eating the food\",\n",
        "      \"Tom and Jerry is my favourite movie\",\n",
        "      \"Python is my favourite programming language\"\n",
        "      ]"
      ]
    },
    {
      "cell_type": "code",
      "execution_count": 56,
      "metadata": {
        "colab": {
          "base_uri": "https://localhost:8080/"
        },
        "id": "GZIvNnWGuMvq",
        "outputId": "249b700d-9cd7-4f39-de00-ac7114b10f60"
      },
      "outputs": [
        {
          "data": {
            "text/plain": [
              "['The world is a better place',\n",
              " 'Marvel series is my favourite movie',\n",
              " 'I like DC movies',\n",
              " 'the cat is eating the food',\n",
              " 'Tom and Jerry is my favourite movie',\n",
              " 'Python is my favourite programming language']"
            ]
          },
          "execution_count": 56,
          "metadata": {},
          "output_type": "execute_result"
        }
      ],
      "source": [
        "sent2"
      ]
    },
    {
      "cell_type": "code",
      "execution_count": 65,
      "metadata": {
        "id": "XZKFiz0HuOq0"
      },
      "outputs": [],
      "source": [
        "voca_size = 500"
      ]
    },
    {
      "cell_type": "code",
      "execution_count": 66,
      "metadata": {
        "colab": {
          "base_uri": "https://localhost:8080/"
        },
        "id": "1kRn1JuEuTBr",
        "outputId": "e266d4f6-b532-4fea-fafb-4e48fadd3565"
      },
      "outputs": [
        {
          "name": "stdout",
          "output_type": "stream",
          "text": [
            "[[161, 243, 86, 99, 157, 171], [397, 495, 86, 67, 186, 372], [223, 327, 241, 103], [161, 421, 86, 283, 161, 245], [210, 224, 262, 86, 67, 186, 372], [496, 86, 67, 186, 63, 296]]\n"
          ]
        }
      ],
      "source": [
        "onehot_rep2=[one_hot(words,voc_size)for words in sent2]\n",
        "print(onehot_rep2)"
      ]
    },
    {
      "cell_type": "code",
      "execution_count": 67,
      "metadata": {
        "colab": {
          "base_uri": "https://localhost:8080/"
        },
        "id": "9lEkIayEuWLg",
        "outputId": "d2cf77eb-ca72-4e4c-f9f7-84d1e07f32c6"
      },
      "outputs": [
        {
          "name": "stdout",
          "output_type": "stream",
          "text": [
            "[[  0 161 243  86  99 157 171]\n",
            " [  0 397 495  86  67 186 372]\n",
            " [  0   0   0 223 327 241 103]\n",
            " [  0 161 421  86 283 161 245]\n",
            " [210 224 262  86  67 186 372]\n",
            " [  0 496  86  67 186  63 296]]\n"
          ]
        }
      ],
      "source": [
        "sent_length=7\n",
        "embedded_docs2=pad_sequences(onehot_rep2,padding='pre',maxlen=sent_length)\n",
        "print(embedded_docs2)"
      ]
    },
    {
      "cell_type": "code",
      "execution_count": 68,
      "metadata": {
        "id": "GcvS0hvEulY4"
      },
      "outputs": [],
      "source": [
        "model=Sequential()\n",
        "model.add(Embedding(voca_size,10,input_length=sent_length))\n",
        "model.compile('adam','mse')"
      ]
    },
    {
      "cell_type": "code",
      "execution_count": 69,
      "metadata": {
        "colab": {
          "base_uri": "https://localhost:8080/"
        },
        "id": "vPXKd1l7u9Lo",
        "outputId": "0d85142b-d97f-4c00-daa6-674d3d3e5b80"
      },
      "outputs": [
        {
          "name": "stdout",
          "output_type": "stream",
          "text": [
            "Model: \"sequential_2\"\n",
            "_________________________________________________________________\n",
            " Layer (type)                Output Shape              Param #   \n",
            "=================================================================\n",
            " embedding_1 (Embedding)     (None, 7, 10)             5000      \n",
            "                                                                 \n",
            "=================================================================\n",
            "Total params: 5000 (19.53 KB)\n",
            "Trainable params: 5000 (19.53 KB)\n",
            "Non-trainable params: 0 (0.00 Byte)\n",
            "_________________________________________________________________\n"
          ]
        }
      ],
      "source": [
        "model.summary()"
      ]
    },
    {
      "cell_type": "code",
      "execution_count": 71,
      "metadata": {
        "colab": {
          "base_uri": "https://localhost:8080/"
        },
        "id": "XhkELm88vCaH",
        "outputId": "c0d86053-7ec6-4d22-dcbb-59f59ffec5ef"
      },
      "outputs": [
        {
          "data": {
            "text/plain": [
              "array([  0, 161, 243,  86,  99, 157, 171], dtype=int32)"
            ]
          },
          "execution_count": 71,
          "metadata": {},
          "output_type": "execute_result"
        }
      ],
      "source": [
        "embedded_docs2[0]"
      ]
    },
    {
      "cell_type": "code",
      "execution_count": 72,
      "metadata": {
        "colab": {
          "base_uri": "https://localhost:8080/"
        },
        "id": "zeDtoU5XvWQ8",
        "outputId": "d17e5c39-9d75-4cf8-b9ed-e29c1658a537"
      },
      "outputs": [
        {
          "name": "stdout",
          "output_type": "stream",
          "text": [
            "1/1 [==============================] - 0s 34ms/step\n"
          ]
        },
        {
          "data": {
            "text/plain": [
              "array([[ 0.04047849, -0.01689198, -0.01246122,  0.04725632, -0.01913021,\n",
              "        -0.04884465,  0.01238566,  0.02327514, -0.04993438,  0.0001057 ],\n",
              "       [-0.02065299,  0.0071115 ,  0.01745811,  0.04357481,  0.045478  ,\n",
              "         0.02574242,  0.03804786,  0.0306913 ,  0.01552041,  0.00719967],\n",
              "       [ 0.00922886, -0.00662612, -0.04062014,  0.03122893,  0.01248633,\n",
              "         0.01539804, -0.00892782,  0.02763195, -0.04033942, -0.0471788 ],\n",
              "       [-0.00591771, -0.02982156, -0.0491829 , -0.02814266, -0.00651181,\n",
              "        -0.00827789, -0.03749899,  0.03611115, -0.04828398,  0.01865507],\n",
              "       [ 0.04321885,  0.04268974, -0.00226673, -0.01358521,  0.00650729,\n",
              "        -0.02142714,  0.02528242, -0.0067343 , -0.00825801, -0.03284285],\n",
              "       [ 0.0487203 ,  0.00625074, -0.04429381,  0.03469982, -0.02159597,\n",
              "         0.00038975, -0.01991975, -0.04801899,  0.0156932 ,  0.04849735],\n",
              "       [-0.01614556,  0.03799892,  0.01109544, -0.0065308 , -0.03701038,\n",
              "        -0.04296234, -0.04524186, -0.01058452, -0.01943814, -0.03827696]],\n",
              "      dtype=float32)"
            ]
          },
          "execution_count": 72,
          "metadata": {},
          "output_type": "execute_result"
        }
      ],
      "source": [
        "model.predict(embedded_docs2[0])"
      ]
    },
    {
      "cell_type": "code",
      "execution_count": 73,
      "metadata": {
        "colab": {
          "base_uri": "https://localhost:8080/"
        },
        "id": "mJvKKKPavgQt",
        "outputId": "5aaf0b06-0dcc-4f5d-978e-e8edf65e4afa"
      },
      "outputs": [
        {
          "name": "stdout",
          "output_type": "stream",
          "text": [
            "1/1 [==============================] - 0s 34ms/step\n"
          ]
        },
        {
          "data": {
            "text/plain": [
              "array([[[ 0.04047849, -0.01689198, -0.01246122,  0.04725632,\n",
              "         -0.01913021, -0.04884465,  0.01238566,  0.02327514,\n",
              "         -0.04993438,  0.0001057 ],\n",
              "        [-0.02065299,  0.0071115 ,  0.01745811,  0.04357481,\n",
              "          0.045478  ,  0.02574242,  0.03804786,  0.0306913 ,\n",
              "          0.01552041,  0.00719967],\n",
              "        [ 0.00922886, -0.00662612, -0.04062014,  0.03122893,\n",
              "          0.01248633,  0.01539804, -0.00892782,  0.02763195,\n",
              "         -0.04033942, -0.0471788 ],\n",
              "        [-0.00591771, -0.02982156, -0.0491829 , -0.02814266,\n",
              "         -0.00651181, -0.00827789, -0.03749899,  0.03611115,\n",
              "         -0.04828398,  0.01865507],\n",
              "        [ 0.04321885,  0.04268974, -0.00226673, -0.01358521,\n",
              "          0.00650729, -0.02142714,  0.02528242, -0.0067343 ,\n",
              "         -0.00825801, -0.03284285],\n",
              "        [ 0.0487203 ,  0.00625074, -0.04429381,  0.03469982,\n",
              "         -0.02159597,  0.00038975, -0.01991975, -0.04801899,\n",
              "          0.0156932 ,  0.04849735],\n",
              "        [-0.01614556,  0.03799892,  0.01109544, -0.0065308 ,\n",
              "         -0.03701038, -0.04296234, -0.04524186, -0.01058452,\n",
              "         -0.01943814, -0.03827696]],\n",
              "\n",
              "       [[ 0.04047849, -0.01689198, -0.01246122,  0.04725632,\n",
              "         -0.01913021, -0.04884465,  0.01238566,  0.02327514,\n",
              "         -0.04993438,  0.0001057 ],\n",
              "        [ 0.03987697,  0.04356958, -0.03902931,  0.04868189,\n",
              "          0.04484725, -0.02439971, -0.03951339, -0.02797004,\n",
              "         -0.04090488, -0.01737633],\n",
              "        [ 0.03084723,  0.02608419, -0.02034072, -0.04109938,\n",
              "         -0.00927428, -0.03923412,  0.02623205, -0.01508714,\n",
              "          0.04897979, -0.01384794],\n",
              "        [-0.00591771, -0.02982156, -0.0491829 , -0.02814266,\n",
              "         -0.00651181, -0.00827789, -0.03749899,  0.03611115,\n",
              "         -0.04828398,  0.01865507],\n",
              "        [-0.00592961,  0.0073251 ,  0.03919541, -0.03904009,\n",
              "          0.03763104,  0.04167912, -0.02184067, -0.02651348,\n",
              "         -0.01333328, -0.00513683],\n",
              "        [ 0.01082132, -0.00618478, -0.00050436,  0.00679694,\n",
              "         -0.0490207 ,  0.00079852, -0.01327597,  0.00130826,\n",
              "          0.00601486, -0.01718431],\n",
              "        [-0.01534966,  0.04890884,  0.04773026, -0.02175121,\n",
              "          0.02272459, -0.03005725,  0.03629707,  0.0291901 ,\n",
              "         -0.0401621 ,  0.03345246]],\n",
              "\n",
              "       [[ 0.04047849, -0.01689198, -0.01246122,  0.04725632,\n",
              "         -0.01913021, -0.04884465,  0.01238566,  0.02327514,\n",
              "         -0.04993438,  0.0001057 ],\n",
              "        [ 0.04047849, -0.01689198, -0.01246122,  0.04725632,\n",
              "         -0.01913021, -0.04884465,  0.01238566,  0.02327514,\n",
              "         -0.04993438,  0.0001057 ],\n",
              "        [ 0.04047849, -0.01689198, -0.01246122,  0.04725632,\n",
              "         -0.01913021, -0.04884465,  0.01238566,  0.02327514,\n",
              "         -0.04993438,  0.0001057 ],\n",
              "        [-0.02266249,  0.04351515, -0.00771832,  0.04946606,\n",
              "          0.02370849,  0.04910671, -0.0409197 ,  0.0443981 ,\n",
              "         -0.02315876,  0.02969766],\n",
              "        [-0.01345797,  0.04366976, -0.03560649,  0.02136791,\n",
              "         -0.01123487,  0.02169089, -0.03100408,  0.02717923,\n",
              "         -0.01751238,  0.01655828],\n",
              "        [ 0.04154886, -0.04083246, -0.00977346,  0.00855298,\n",
              "          0.01580862,  0.00442   , -0.00608433,  0.01123999,\n",
              "          0.013553  ,  0.02459245],\n",
              "        [-0.03066186, -0.04969519, -0.01024466,  0.01438076,\n",
              "         -0.01336771,  0.04447008,  0.04164568,  0.00249264,\n",
              "         -0.00216872,  0.03396631]],\n",
              "\n",
              "       [[ 0.04047849, -0.01689198, -0.01246122,  0.04725632,\n",
              "         -0.01913021, -0.04884465,  0.01238566,  0.02327514,\n",
              "         -0.04993438,  0.0001057 ],\n",
              "        [-0.02065299,  0.0071115 ,  0.01745811,  0.04357481,\n",
              "          0.045478  ,  0.02574242,  0.03804786,  0.0306913 ,\n",
              "          0.01552041,  0.00719967],\n",
              "        [-0.00431373,  0.0295231 , -0.02031436, -0.03774943,\n",
              "          0.04341109, -0.03500158, -0.04962554, -0.02960452,\n",
              "         -0.01436119,  0.01653371],\n",
              "        [-0.00591771, -0.02982156, -0.0491829 , -0.02814266,\n",
              "         -0.00651181, -0.00827789, -0.03749899,  0.03611115,\n",
              "         -0.04828398,  0.01865507],\n",
              "        [-0.01391842, -0.01388133,  0.00051368, -0.03171621,\n",
              "          0.04420655,  0.003933  ,  0.04395447,  0.00598065,\n",
              "         -0.03817933, -0.03962711],\n",
              "        [-0.02065299,  0.0071115 ,  0.01745811,  0.04357481,\n",
              "          0.045478  ,  0.02574242,  0.03804786,  0.0306913 ,\n",
              "          0.01552041,  0.00719967],\n",
              "        [ 0.0223503 ,  0.01617256,  0.02928508,  0.01701066,\n",
              "         -0.02944025,  0.00586022,  0.03906263, -0.02981557,\n",
              "         -0.04485321, -0.00374867]],\n",
              "\n",
              "       [[-0.02756214, -0.03511214, -0.02168763, -0.02982824,\n",
              "         -0.0259101 , -0.00387775, -0.02071171, -0.01417519,\n",
              "          0.02123951, -0.03011547],\n",
              "        [ 0.02708094, -0.04949617,  0.03868556,  0.03341116,\n",
              "          0.0010845 , -0.01204325,  0.01669646, -0.00032138,\n",
              "          0.00316929, -0.03608589],\n",
              "        [-0.04073567,  0.00502579, -0.01585285,  0.00100492,\n",
              "          0.00655399, -0.02411547,  0.01846241, -0.02177328,\n",
              "         -0.01002105, -0.01345553],\n",
              "        [-0.00591771, -0.02982156, -0.0491829 , -0.02814266,\n",
              "         -0.00651181, -0.00827789, -0.03749899,  0.03611115,\n",
              "         -0.04828398,  0.01865507],\n",
              "        [-0.00592961,  0.0073251 ,  0.03919541, -0.03904009,\n",
              "          0.03763104,  0.04167912, -0.02184067, -0.02651348,\n",
              "         -0.01333328, -0.00513683],\n",
              "        [ 0.01082132, -0.00618478, -0.00050436,  0.00679694,\n",
              "         -0.0490207 ,  0.00079852, -0.01327597,  0.00130826,\n",
              "          0.00601486, -0.01718431],\n",
              "        [-0.01534966,  0.04890884,  0.04773026, -0.02175121,\n",
              "          0.02272459, -0.03005725,  0.03629707,  0.0291901 ,\n",
              "         -0.0401621 ,  0.03345246]],\n",
              "\n",
              "       [[ 0.04047849, -0.01689198, -0.01246122,  0.04725632,\n",
              "         -0.01913021, -0.04884465,  0.01238566,  0.02327514,\n",
              "         -0.04993438,  0.0001057 ],\n",
              "        [-0.04427917, -0.01776209, -0.01861318, -0.02875791,\n",
              "          0.01883224,  0.02596355,  0.02533523,  0.02281865,\n",
              "          0.00830346,  0.04020729],\n",
              "        [-0.00591771, -0.02982156, -0.0491829 , -0.02814266,\n",
              "         -0.00651181, -0.00827789, -0.03749899,  0.03611115,\n",
              "         -0.04828398,  0.01865507],\n",
              "        [-0.00592961,  0.0073251 ,  0.03919541, -0.03904009,\n",
              "          0.03763104,  0.04167912, -0.02184067, -0.02651348,\n",
              "         -0.01333328, -0.00513683],\n",
              "        [ 0.01082132, -0.00618478, -0.00050436,  0.00679694,\n",
              "         -0.0490207 ,  0.00079852, -0.01327597,  0.00130826,\n",
              "          0.00601486, -0.01718431],\n",
              "        [-0.04787017, -0.00200624, -0.03832979, -0.04581276,\n",
              "          0.0256812 ,  0.02462522, -0.02379574,  0.03191865,\n",
              "         -0.01998316,  0.00414572],\n",
              "        [ 0.00230324,  0.0172892 , -0.03276294, -0.04138153,\n",
              "         -0.01150228, -0.0407235 , -0.00023723, -0.01232356,\n",
              "          0.01261479, -0.01968683]]], dtype=float32)"
            ]
          },
          "execution_count": 73,
          "metadata": {},
          "output_type": "execute_result"
        }
      ],
      "source": [
        "model.predict(embedded_docs2)"
      ]
    },
    {
      "cell_type": "code",
      "execution_count": null,
      "metadata": {
        "id": "SiMI6bnNvi18"
      },
      "outputs": [],
      "source": []
    }
  ],
  "metadata": {
    "accelerator": "GPU",
    "colab": {
      "gpuType": "T4",
      "provenance": []
    },
    "kernelspec": {
      "display_name": "Python 3",
      "name": "python3"
    },
    "language_info": {
      "name": "python",
      "version": "3.11.4"
    }
  },
  "nbformat": 4,
  "nbformat_minor": 0
}
