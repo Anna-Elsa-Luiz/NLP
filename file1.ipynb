{
 "cells": [
  {
   "cell_type": "code",
   "execution_count": 1,
   "metadata": {},
   "outputs": [
    {
     "name": "stdout",
     "output_type": "stream",
     "text": [
      "Defaulting to user installation because normal site-packages is not writeable\n",
      "Requirement already satisfied: nltk in d:\\anaconda\\lib\\site-packages (3.7)\n",
      "Requirement already satisfied: click in c:\\users\\hp\\appdata\\roaming\\python\\python311\\site-packages (from nltk) (8.1.7)\n",
      "Requirement already satisfied: joblib in d:\\anaconda\\lib\\site-packages (from nltk) (1.2.0)\n",
      "Requirement already satisfied: regex>=2021.8.3 in d:\\anaconda\\lib\\site-packages (from nltk) (2022.7.9)\n",
      "Requirement already satisfied: tqdm in d:\\anaconda\\lib\\site-packages (from nltk) (4.65.0)\n",
      "Requirement already satisfied: colorama in d:\\anaconda\\lib\\site-packages (from click->nltk) (0.4.6)\n"
     ]
    }
   ],
   "source": [
    "!pip install nltk\n"
   ]
  },
  {
   "cell_type": "code",
   "execution_count": 39,
   "metadata": {},
   "outputs": [],
   "source": [
    "paragraph = \"\"\"What is cognitive AI?\n",
    "Cognitive AI, also referred to as cognitive artificial intelligence, is software that tries to think and learn by imitating the way human brains work. It uses natural language processing (NLP) and machine learning (ML) to attempt to understand human intention behind queries so as to deliver more relevant responses. Such responses are the result of searching through vast quantities of data and are delivered in language a human would use. Cognitive AI is commonly used to improve problem solving, decision making, and communication.\n",
    "Cognitive AI is different from retrieval augmented generation or RAG AI, in that RAG combines the strengths of both generative AI and retrieval AI, and is different from generative AI, which produces more accurate and context-aware results from users’ prompts.While there seems to be differences in how cognitive computing is defined, most sources agree that it is a combination of computer science and cognitive science—a subset of artificial intelligence (AI) that attempts to mimic the way the human brain works.\n",
    "Definitions of cognitive computing range and include these:\n",
    "Technologies that are based on the scientific principles behind artificial intelligence and signal processing, encompassing machine self-learning, human-computer interaction, natural language processing, data mining, and more (Technopia)\n",
    "Systems that learn at scale, reason with purpose, and interact with humans naturally (IBM)\n",
    "Cognitive computing systems are capable of synthesizing data from diverse information sources to respond to queries. These systems take conflicting evidence and context into account when providing answers to help humans make more informed decisions.\"\"\""
   ]
  },
  {
   "cell_type": "code",
   "execution_count": 40,
   "metadata": {},
   "outputs": [
    {
     "data": {
      "text/plain": [
       "'What is cognitive AI?\\nCognitive AI, also referred to as cognitive artificial intelligence, is software that tries to think and learn by imitating the way human brains work. It uses natural language processing (NLP) and machine learning (ML) to attempt to understand human intention behind queries so as to deliver more relevant responses. Such responses are the result of searching through vast quantities of data and are delivered in language a human would use. Cognitive AI is commonly used to improve problem solving, decision making, and communication.\\nCognitive AI is different from retrieval augmented generation or RAG AI, in that RAG combines the strengths of both generative AI and retrieval AI, and is different from generative AI, which produces more accurate and context-aware results from users’ prompts.While there seems to be differences in how cognitive computing is defined, most sources agree that it is a combination of computer science and cognitive science—a subset of artificial intelligence (AI) that attempts to mimic the way the human brain works.\\nDefinitions of cognitive computing range and include these:\\nTechnologies that are based on the scientific principles behind artificial intelligence and signal processing, encompassing machine self-learning, human-computer interaction, natural language processing, data mining, and more (Technopia)\\nSystems that learn at scale, reason with purpose, and interact with humans naturally (IBM)\\nCognitive computing systems are capable of synthesizing data from diverse information sources to respond to queries. These systems take conflicting evidence and context into account when providing answers to help humans make more informed decisions.'"
      ]
     },
     "execution_count": 40,
     "metadata": {},
     "output_type": "execute_result"
    }
   ],
   "source": [
    "paragraph"
   ]
  },
  {
   "cell_type": "code",
   "execution_count": 41,
   "metadata": {},
   "outputs": [],
   "source": [
    "import nltk\n",
    "from nltk.stem import PorterStemmer #for stemming\n",
    "from nltk.corpus import stopwords #for stopwards "
   ]
  },
  {
   "cell_type": "markdown",
   "metadata": {},
   "source": [
    "Tokenization\n",
    "\n",
    "Converts paragraph into sentences and then focus on the words"
   ]
  },
  {
   "cell_type": "code",
   "execution_count": 42,
   "metadata": {},
   "outputs": [
    {
     "name": "stderr",
     "output_type": "stream",
     "text": [
      "[nltk_data] Downloading package punkt to\n",
      "[nltk_data]     C:\\Users\\hp\\AppData\\Roaming\\nltk_data...\n",
      "[nltk_data]   Package punkt is already up-to-date!\n",
      "[nltk_data] Downloading package wordnet to\n",
      "[nltk_data]     C:\\Users\\hp\\AppData\\Roaming\\nltk_data...\n",
      "[nltk_data]   Package wordnet is already up-to-date!\n"
     ]
    },
    {
     "data": {
      "text/plain": [
       "True"
      ]
     },
     "execution_count": 42,
     "metadata": {},
     "output_type": "execute_result"
    }
   ],
   "source": [
    "nltk.download('punkt')\n",
    "nltk.download('wordnet')"
   ]
  },
  {
   "cell_type": "code",
   "execution_count": 43,
   "metadata": {},
   "outputs": [
    {
     "data": {
      "text/plain": [
       "['What is cognitive AI?',\n",
       " 'Cognitive AI, also referred to as cognitive artificial intelligence, is software that tries to think and learn by imitating the way human brains work.',\n",
       " 'It uses natural language processing (NLP) and machine learning (ML) to attempt to understand human intention behind queries so as to deliver more relevant responses.',\n",
       " 'Such responses are the result of searching through vast quantities of data and are delivered in language a human would use.',\n",
       " 'Cognitive AI is commonly used to improve problem solving, decision making, and communication.',\n",
       " 'Cognitive AI is different from retrieval augmented generation or RAG AI, in that RAG combines the strengths of both generative AI and retrieval AI, and is different from generative AI, which produces more accurate and context-aware results from users’ prompts.While there seems to be differences in how cognitive computing is defined, most sources agree that it is a combination of computer science and cognitive science—a subset of artificial intelligence (AI) that attempts to mimic the way the human brain works.',\n",
       " 'Definitions of cognitive computing range and include these:\\nTechnologies that are based on the scientific principles behind artificial intelligence and signal processing, encompassing machine self-learning, human-computer interaction, natural language processing, data mining, and more (Technopia)\\nSystems that learn at scale, reason with purpose, and interact with humans naturally (IBM)\\nCognitive computing systems are capable of synthesizing data from diverse information sources to respond to queries.',\n",
       " 'These systems take conflicting evidence and context into account when providing answers to help humans make more informed decisions.']"
      ]
     },
     "execution_count": 43,
     "metadata": {},
     "output_type": "execute_result"
    }
   ],
   "source": [
    "sentences = nltk.sent_tokenize(paragraph)\n",
    "sentences"
   ]
  },
  {
   "cell_type": "markdown",
   "metadata": {},
   "source": [
    "converted into sentences "
   ]
  },
  {
   "cell_type": "code",
   "execution_count": 44,
   "metadata": {},
   "outputs": [],
   "source": [
    "stemmer = PorterStemmer()"
   ]
  },
  {
   "cell_type": "code",
   "execution_count": 45,
   "metadata": {},
   "outputs": [
    {
     "data": {
      "text/plain": [
       "'cognit'"
      ]
     },
     "execution_count": 45,
     "metadata": {},
     "output_type": "execute_result"
    }
   ],
   "source": [
    "stemmer.stem('cognitive')"
   ]
  },
  {
   "cell_type": "code",
   "execution_count": 46,
   "metadata": {},
   "outputs": [],
   "source": [
    "from nltk.stem import WordNetLemmatizer\n",
    "lemmatizer = WordNetLemmatizer()"
   ]
  },
  {
   "cell_type": "code",
   "execution_count": 47,
   "metadata": {},
   "outputs": [
    {
     "data": {
      "text/plain": [
       "'cognitive'"
      ]
     },
     "execution_count": 47,
     "metadata": {},
     "output_type": "execute_result"
    }
   ],
   "source": [
    "lemmatizer.lemmatize('cognitive')"
   ]
  },
  {
   "cell_type": "markdown",
   "metadata": {},
   "source": [
    "Now we are going to clean the text "
   ]
  },
  {
   "cell_type": "code",
   "execution_count": 48,
   "metadata": {},
   "outputs": [
    {
     "data": {
      "text/plain": [
       "8"
      ]
     },
     "execution_count": 48,
     "metadata": {},
     "output_type": "execute_result"
    }
   ],
   "source": [
    "len(sentences)"
   ]
  },
  {
   "cell_type": "code",
   "execution_count": 50,
   "metadata": {},
   "outputs": [],
   "source": [
    "import re\n",
    "corpus=[]\n",
    "for i in range(len(sentences)):\n",
    "    review=re.sub('[^a-zA-Z]',' ',sentences[i]) # remove non alphabetic characters\n",
    "    review= review.lower() #making the words lowercase\n",
    "    corpus.append(review)\n",
    "    "
   ]
  },
  {
   "cell_type": "code",
   "execution_count": 51,
   "metadata": {},
   "outputs": [
    {
     "data": {
      "text/plain": [
       "['what is cognitive ai ',\n",
       " 'cognitive ai  also referred to as cognitive artificial intelligence  is software that tries to think and learn by imitating the way human brains work ',\n",
       " 'it uses natural language processing  nlp  and machine learning  ml  to attempt to understand human intention behind queries so as to deliver more relevant responses ',\n",
       " 'such responses are the result of searching through vast quantities of data and are delivered in language a human would use ',\n",
       " 'cognitive ai is commonly used to improve problem solving  decision making  and communication ',\n",
       " 'cognitive ai is different from retrieval augmented generation or rag ai  in that rag combines the strengths of both generative ai and retrieval ai  and is different from generative ai  which produces more accurate and context aware results from users  prompts while there seems to be differences in how cognitive computing is defined  most sources agree that it is a combination of computer science and cognitive science a subset of artificial intelligence  ai  that attempts to mimic the way the human brain works ',\n",
       " 'definitions of cognitive computing range and include these  technologies that are based on the scientific principles behind artificial intelligence and signal processing  encompassing machine self learning  human computer interaction  natural language processing  data mining  and more  technopia  systems that learn at scale  reason with purpose  and interact with humans naturally  ibm  cognitive computing systems are capable of synthesizing data from diverse information sources to respond to queries ',\n",
       " 'these systems take conflicting evidence and context into account when providing answers to help humans make more informed decisions ']"
      ]
     },
     "execution_count": 51,
     "metadata": {},
     "output_type": "execute_result"
    }
   ],
   "source": [
    "corpus"
   ]
  },
  {
   "cell_type": "markdown",
   "metadata": {},
   "source": [
    "### Stopwords "
   ]
  },
  {
   "cell_type": "code",
   "execution_count": 57,
   "metadata": {},
   "outputs": [
    {
     "data": {
      "text/plain": [
       "['i',\n",
       " 'me',\n",
       " 'my',\n",
       " 'myself',\n",
       " 'we',\n",
       " 'our',\n",
       " 'ours',\n",
       " 'ourselves',\n",
       " 'you',\n",
       " \"you're\",\n",
       " \"you've\",\n",
       " \"you'll\",\n",
       " \"you'd\",\n",
       " 'your',\n",
       " 'yours',\n",
       " 'yourself',\n",
       " 'yourselves',\n",
       " 'he',\n",
       " 'him',\n",
       " 'his',\n",
       " 'himself',\n",
       " 'she',\n",
       " \"she's\",\n",
       " 'her',\n",
       " 'hers',\n",
       " 'herself',\n",
       " 'it',\n",
       " \"it's\",\n",
       " 'its',\n",
       " 'itself',\n",
       " 'they',\n",
       " 'them',\n",
       " 'their',\n",
       " 'theirs',\n",
       " 'themselves',\n",
       " 'what',\n",
       " 'which',\n",
       " 'who',\n",
       " 'whom',\n",
       " 'this',\n",
       " 'that',\n",
       " \"that'll\",\n",
       " 'these',\n",
       " 'those',\n",
       " 'am',\n",
       " 'is',\n",
       " 'are',\n",
       " 'was',\n",
       " 'were',\n",
       " 'be',\n",
       " 'been',\n",
       " 'being',\n",
       " 'have',\n",
       " 'has',\n",
       " 'had',\n",
       " 'having',\n",
       " 'do',\n",
       " 'does',\n",
       " 'did',\n",
       " 'doing',\n",
       " 'a',\n",
       " 'an',\n",
       " 'the',\n",
       " 'and',\n",
       " 'but',\n",
       " 'if',\n",
       " 'or',\n",
       " 'because',\n",
       " 'as',\n",
       " 'until',\n",
       " 'while',\n",
       " 'of',\n",
       " 'at',\n",
       " 'by',\n",
       " 'for',\n",
       " 'with',\n",
       " 'about',\n",
       " 'against',\n",
       " 'between',\n",
       " 'into',\n",
       " 'through',\n",
       " 'during',\n",
       " 'before',\n",
       " 'after',\n",
       " 'above',\n",
       " 'below',\n",
       " 'to',\n",
       " 'from',\n",
       " 'up',\n",
       " 'down',\n",
       " 'in',\n",
       " 'out',\n",
       " 'on',\n",
       " 'off',\n",
       " 'over',\n",
       " 'under',\n",
       " 'again',\n",
       " 'further',\n",
       " 'then',\n",
       " 'once',\n",
       " 'here',\n",
       " 'there',\n",
       " 'when',\n",
       " 'where',\n",
       " 'why',\n",
       " 'how',\n",
       " 'all',\n",
       " 'any',\n",
       " 'both',\n",
       " 'each',\n",
       " 'few',\n",
       " 'more',\n",
       " 'most',\n",
       " 'other',\n",
       " 'some',\n",
       " 'such',\n",
       " 'no',\n",
       " 'nor',\n",
       " 'not',\n",
       " 'only',\n",
       " 'own',\n",
       " 'same',\n",
       " 'so',\n",
       " 'than',\n",
       " 'too',\n",
       " 'very',\n",
       " 's',\n",
       " 't',\n",
       " 'can',\n",
       " 'will',\n",
       " 'just',\n",
       " 'don',\n",
       " \"don't\",\n",
       " 'should',\n",
       " \"should've\",\n",
       " 'now',\n",
       " 'd',\n",
       " 'll',\n",
       " 'm',\n",
       " 'o',\n",
       " 're',\n",
       " 've',\n",
       " 'y',\n",
       " 'ain',\n",
       " 'aren',\n",
       " \"aren't\",\n",
       " 'couldn',\n",
       " \"couldn't\",\n",
       " 'didn',\n",
       " \"didn't\",\n",
       " 'doesn',\n",
       " \"doesn't\",\n",
       " 'hadn',\n",
       " \"hadn't\",\n",
       " 'hasn',\n",
       " \"hasn't\",\n",
       " 'haven',\n",
       " \"haven't\",\n",
       " 'isn',\n",
       " \"isn't\",\n",
       " 'ma',\n",
       " 'mightn',\n",
       " \"mightn't\",\n",
       " 'mustn',\n",
       " \"mustn't\",\n",
       " 'needn',\n",
       " \"needn't\",\n",
       " 'shan',\n",
       " \"shan't\",\n",
       " 'shouldn',\n",
       " \"shouldn't\",\n",
       " 'wasn',\n",
       " \"wasn't\",\n",
       " 'weren',\n",
       " \"weren't\",\n",
       " 'won',\n",
       " \"won't\",\n",
       " 'wouldn',\n",
       " \"wouldn't\"]"
      ]
     },
     "execution_count": 57,
     "metadata": {},
     "output_type": "execute_result"
    }
   ],
   "source": [
    "stopwords.words('english')"
   ]
  },
  {
   "cell_type": "markdown",
   "metadata": {},
   "source": [
    "## stemming"
   ]
  },
  {
   "cell_type": "code",
   "execution_count": 55,
   "metadata": {},
   "outputs": [
    {
     "name": "stdout",
     "output_type": "stream",
     "text": [
      "cognit\n",
      "ai\n",
      "cognit\n",
      "ai\n",
      "also\n",
      "refer\n",
      "cognit\n",
      "artifici\n",
      "intellig\n",
      "softwar\n",
      "tri\n",
      "think\n",
      "learn\n",
      "imit\n",
      "way\n",
      "human\n",
      "brain\n",
      "work\n",
      "use\n",
      "natur\n",
      "languag\n",
      "process\n",
      "nlp\n",
      "machin\n",
      "learn\n",
      "ml\n",
      "attempt\n",
      "understand\n",
      "human\n",
      "intent\n",
      "behind\n",
      "queri\n",
      "deliv\n",
      "relev\n",
      "respons\n",
      "respons\n",
      "result\n",
      "search\n",
      "vast\n",
      "quantiti\n",
      "data\n",
      "deliv\n",
      "languag\n",
      "human\n",
      "would\n",
      "use\n",
      "cognit\n",
      "ai\n",
      "commonli\n",
      "use\n",
      "improv\n",
      "problem\n",
      "solv\n",
      "decis\n",
      "make\n",
      "commun\n",
      "cognit\n",
      "ai\n",
      "differ\n",
      "retriev\n",
      "augment\n",
      "gener\n",
      "rag\n",
      "ai\n",
      "rag\n",
      "combin\n",
      "strength\n",
      "gener\n",
      "ai\n",
      "retriev\n",
      "ai\n",
      "differ\n",
      "gener\n",
      "ai\n",
      "produc\n",
      "accur\n",
      "context\n",
      "awar\n",
      "result\n",
      "user\n",
      "prompt\n",
      "seem\n",
      "differ\n",
      "cognit\n",
      "comput\n",
      "defin\n",
      "sourc\n",
      "agre\n",
      "combin\n",
      "comput\n",
      "scienc\n",
      "cognit\n",
      "scienc\n",
      "subset\n",
      "artifici\n",
      "intellig\n",
      "ai\n",
      "attempt\n",
      "mimic\n",
      "way\n",
      "human\n",
      "brain\n",
      "work\n",
      "definit\n",
      "cognit\n",
      "comput\n",
      "rang\n",
      "includ\n",
      "technolog\n",
      "base\n",
      "scientif\n",
      "principl\n",
      "behind\n",
      "artifici\n",
      "intellig\n",
      "signal\n",
      "process\n",
      "encompass\n",
      "machin\n",
      "self\n",
      "learn\n",
      "human\n",
      "comput\n",
      "interact\n",
      "natur\n",
      "languag\n",
      "process\n",
      "data\n",
      "mine\n",
      "technopia\n",
      "system\n",
      "learn\n",
      "scale\n",
      "reason\n",
      "purpos\n",
      "interact\n",
      "human\n",
      "natur\n",
      "ibm\n",
      "cognit\n",
      "comput\n",
      "system\n",
      "capabl\n",
      "synthes\n",
      "data\n",
      "divers\n",
      "inform\n",
      "sourc\n",
      "respond\n",
      "queri\n",
      "system\n",
      "take\n",
      "conflict\n",
      "evid\n",
      "context\n",
      "account\n",
      "provid\n",
      "answer\n",
      "help\n",
      "human\n",
      "make\n",
      "inform\n",
      "decis\n"
     ]
    }
   ],
   "source": [
    "for i in corpus:\n",
    "    words = nltk.word_tokenize(i) # it make sure that from the sentence I am getting the words \n",
    "    for word in words :\n",
    "        if word not in set(stopwords.words('english')):\n",
    "           print(stemmer.stem(word))"
   ]
  },
  {
   "cell_type": "markdown",
   "metadata": {},
   "source": [
    "## Lemmatization"
   ]
  },
  {
   "cell_type": "code",
   "execution_count": 56,
   "metadata": {},
   "outputs": [
    {
     "name": "stdout",
     "output_type": "stream",
     "text": [
      "cognitive\n",
      "ai\n",
      "cognitive\n",
      "ai\n",
      "also\n",
      "referred\n",
      "cognitive\n",
      "artificial\n",
      "intelligence\n",
      "software\n",
      "try\n",
      "think\n",
      "learn\n",
      "imitating\n",
      "way\n",
      "human\n",
      "brain\n",
      "work\n",
      "us\n",
      "natural\n",
      "language\n",
      "processing\n",
      "nlp\n",
      "machine\n",
      "learning\n",
      "ml\n",
      "attempt\n",
      "understand\n",
      "human\n",
      "intention\n",
      "behind\n",
      "query\n",
      "deliver\n",
      "relevant\n",
      "response\n",
      "response\n",
      "result\n",
      "searching\n",
      "vast\n",
      "quantity\n",
      "data\n",
      "delivered\n",
      "language\n",
      "human\n",
      "would\n",
      "use\n",
      "cognitive\n",
      "ai\n",
      "commonly\n",
      "used\n",
      "improve\n",
      "problem\n",
      "solving\n",
      "decision\n",
      "making\n",
      "communication\n",
      "cognitive\n",
      "ai\n",
      "different\n",
      "retrieval\n",
      "augmented\n",
      "generation\n",
      "rag\n",
      "ai\n",
      "rag\n",
      "combine\n",
      "strength\n",
      "generative\n",
      "ai\n",
      "retrieval\n",
      "ai\n",
      "different\n",
      "generative\n",
      "ai\n",
      "produce\n",
      "accurate\n",
      "context\n",
      "aware\n",
      "result\n",
      "user\n",
      "prompt\n",
      "seems\n",
      "difference\n",
      "cognitive\n",
      "computing\n",
      "defined\n",
      "source\n",
      "agree\n",
      "combination\n",
      "computer\n",
      "science\n",
      "cognitive\n",
      "science\n",
      "subset\n",
      "artificial\n",
      "intelligence\n",
      "ai\n",
      "attempt\n",
      "mimic\n",
      "way\n",
      "human\n",
      "brain\n",
      "work\n",
      "definition\n",
      "cognitive\n",
      "computing\n",
      "range\n",
      "include\n",
      "technology\n",
      "based\n",
      "scientific\n",
      "principle\n",
      "behind\n",
      "artificial\n",
      "intelligence\n",
      "signal\n",
      "processing\n",
      "encompassing\n",
      "machine\n",
      "self\n",
      "learning\n",
      "human\n",
      "computer\n",
      "interaction\n",
      "natural\n",
      "language\n",
      "processing\n",
      "data\n",
      "mining\n",
      "technopia\n",
      "system\n",
      "learn\n",
      "scale\n",
      "reason\n",
      "purpose\n",
      "interact\n",
      "human\n",
      "naturally\n",
      "ibm\n",
      "cognitive\n",
      "computing\n",
      "system\n",
      "capable\n",
      "synthesizing\n",
      "data\n",
      "diverse\n",
      "information\n",
      "source\n",
      "respond\n",
      "query\n",
      "system\n",
      "take\n",
      "conflicting\n",
      "evidence\n",
      "context\n",
      "account\n",
      "providing\n",
      "answer\n",
      "help\n",
      "human\n",
      "make\n",
      "informed\n",
      "decision\n"
     ]
    }
   ],
   "source": [
    "for i in corpus:\n",
    "    words = nltk.word_tokenize(i) # it make sure that from the sentence I am getting the words \n",
    "    for word in words :\n",
    "        if word not in set(stopwords.words('english')):\n",
    "           print(lemmatizer.lemmatize(word))"
   ]
  },
  {
   "cell_type": "markdown",
   "metadata": {},
   "source": [
    "## Bag Of words "
   ]
  },
  {
   "cell_type": "code",
   "execution_count": 59,
   "metadata": {},
   "outputs": [
    {
     "name": "stdout",
     "output_type": "stream",
     "text": [
      "Defaulting to user installation because normal site-packages is not writeable\n",
      "Requirement already satisfied: scikit-learn in d:\\anaconda\\lib\\site-packages (1.2.2)\n",
      "Requirement already satisfied: numpy>=1.17.3 in d:\\anaconda\\lib\\site-packages (from scikit-learn) (1.24.3)\n",
      "Requirement already satisfied: scipy>=1.3.2 in d:\\anaconda\\lib\\site-packages (from scikit-learn) (1.10.1)\n",
      "Requirement already satisfied: joblib>=1.1.1 in d:\\anaconda\\lib\\site-packages (from scikit-learn) (1.2.0)\n",
      "Requirement already satisfied: threadpoolctl>=2.0.0 in d:\\anaconda\\lib\\site-packages (from scikit-learn) (2.2.0)\n"
     ]
    }
   ],
   "source": [
    "!pip install scikit-learn"
   ]
  },
  {
   "cell_type": "code",
   "execution_count": 60,
   "metadata": {},
   "outputs": [],
   "source": [
    "from sklearn.feature_extraction.text import  CountVectorizer\n",
    "cv= CountVectorizer()\n",
    "#cv= CountVectorizer(binary=True) \n"
   ]
  },
  {
   "cell_type": "code",
   "execution_count": 61,
   "metadata": {},
   "outputs": [],
   "source": [
    "X = cv.fit_transform(corpus)"
   ]
  },
  {
   "cell_type": "code",
   "execution_count": 62,
   "metadata": {},
   "outputs": [
    {
     "data": {
      "text/plain": [
       "{'what': 135,\n",
       " 'is': 63,\n",
       " 'cognitive': 23,\n",
       " 'ai': 3,\n",
       " 'also': 4,\n",
       " 'referred': 94,\n",
       " 'to': 126,\n",
       " 'as': 9,\n",
       " 'artificial': 8,\n",
       " 'intelligence': 58,\n",
       " 'software': 109,\n",
       " 'that': 120,\n",
       " 'tries': 127,\n",
       " 'think': 124,\n",
       " 'and': 5,\n",
       " 'learn': 66,\n",
       " 'by': 21,\n",
       " 'imitating': 52,\n",
       " 'the': 121,\n",
       " 'way': 134,\n",
       " 'human': 49,\n",
       " 'brains': 20,\n",
       " 'work': 140,\n",
       " 'it': 64,\n",
       " 'uses': 132,\n",
       " 'natural': 76,\n",
       " 'language': 65,\n",
       " 'processing': 84,\n",
       " 'nlp': 78,\n",
       " 'machine': 68,\n",
       " 'learning': 67,\n",
       " 'ml': 73,\n",
       " 'attempt': 11,\n",
       " 'understand': 128,\n",
       " 'intention': 59,\n",
       " 'behind': 17,\n",
       " 'queries': 90,\n",
       " 'so': 108,\n",
       " 'deliver': 37,\n",
       " 'more': 74,\n",
       " 'relevant': 95,\n",
       " 'responses': 97,\n",
       " 'such': 114,\n",
       " 'are': 7,\n",
       " 'result': 98,\n",
       " 'of': 79,\n",
       " 'searching': 104,\n",
       " 'through': 125,\n",
       " 'vast': 133,\n",
       " 'quantities': 89,\n",
       " 'data': 32,\n",
       " 'delivered': 38,\n",
       " 'in': 54,\n",
       " 'would': 142,\n",
       " 'use': 129,\n",
       " 'commonly': 26,\n",
       " 'used': 130,\n",
       " 'improve': 53,\n",
       " 'problem': 83,\n",
       " 'solving': 110,\n",
       " 'decision': 33,\n",
       " 'making': 70,\n",
       " 'communication': 27,\n",
       " 'different': 40,\n",
       " 'from': 44,\n",
       " 'retrieval': 100,\n",
       " 'augmented': 13,\n",
       " 'generation': 45,\n",
       " 'or': 81,\n",
       " 'rag': 91,\n",
       " 'combines': 25,\n",
       " 'strengths': 112,\n",
       " 'both': 18,\n",
       " 'generative': 46,\n",
       " 'which': 137,\n",
       " 'produces': 85,\n",
       " 'accurate': 1,\n",
       " 'context': 31,\n",
       " 'aware': 14,\n",
       " 'results': 99,\n",
       " 'users': 131,\n",
       " 'prompts': 86,\n",
       " 'while': 138,\n",
       " 'there': 122,\n",
       " 'seems': 105,\n",
       " 'be': 16,\n",
       " 'differences': 39,\n",
       " 'how': 48,\n",
       " 'computing': 29,\n",
       " 'defined': 35,\n",
       " 'most': 75,\n",
       " 'sources': 111,\n",
       " 'agree': 2,\n",
       " 'combination': 24,\n",
       " 'computer': 28,\n",
       " 'science': 102,\n",
       " 'subset': 113,\n",
       " 'attempts': 12,\n",
       " 'mimic': 71,\n",
       " 'brain': 19,\n",
       " 'works': 141,\n",
       " 'definitions': 36,\n",
       " 'range': 92,\n",
       " 'include': 55,\n",
       " 'these': 123,\n",
       " 'technologies': 118,\n",
       " 'based': 15,\n",
       " 'on': 80,\n",
       " 'scientific': 103,\n",
       " 'principles': 82,\n",
       " 'signal': 107,\n",
       " 'encompassing': 42,\n",
       " 'self': 106,\n",
       " 'interaction': 61,\n",
       " 'mining': 72,\n",
       " 'technopia': 119,\n",
       " 'systems': 116,\n",
       " 'at': 10,\n",
       " 'scale': 101,\n",
       " 'reason': 93,\n",
       " 'with': 139,\n",
       " 'purpose': 88,\n",
       " 'interact': 60,\n",
       " 'humans': 50,\n",
       " 'naturally': 77,\n",
       " 'ibm': 51,\n",
       " 'capable': 22,\n",
       " 'synthesizing': 115,\n",
       " 'diverse': 41,\n",
       " 'information': 56,\n",
       " 'respond': 96,\n",
       " 'take': 117,\n",
       " 'conflicting': 30,\n",
       " 'evidence': 43,\n",
       " 'into': 62,\n",
       " 'account': 0,\n",
       " 'when': 136,\n",
       " 'providing': 87,\n",
       " 'answers': 6,\n",
       " 'help': 47,\n",
       " 'make': 69,\n",
       " 'informed': 57,\n",
       " 'decisions': 34}"
      ]
     },
     "execution_count": 62,
     "metadata": {},
     "output_type": "execute_result"
    }
   ],
   "source": [
    "cv.vocabulary_"
   ]
  },
  {
   "cell_type": "markdown",
   "metadata": {},
   "source": [
    "the number is the index of the vocabulary"
   ]
  },
  {
   "cell_type": "code",
   "execution_count": 64,
   "metadata": {},
   "outputs": [
    {
     "data": {
      "text/plain": [
       "'what is cognitive ai '"
      ]
     },
     "execution_count": 64,
     "metadata": {},
     "output_type": "execute_result"
    }
   ],
   "source": [
    "corpus[0]"
   ]
  },
  {
   "cell_type": "code",
   "execution_count": 65,
   "metadata": {},
   "outputs": [
    {
     "data": {
      "text/plain": [
       "array([[0, 0, 0, 1, 0, 0, 0, 0, 0, 0, 0, 0, 0, 0, 0, 0, 0, 0, 0, 0, 0, 0,\n",
       "        0, 1, 0, 0, 0, 0, 0, 0, 0, 0, 0, 0, 0, 0, 0, 0, 0, 0, 0, 0, 0, 0,\n",
       "        0, 0, 0, 0, 0, 0, 0, 0, 0, 0, 0, 0, 0, 0, 0, 0, 0, 0, 0, 1, 0, 0,\n",
       "        0, 0, 0, 0, 0, 0, 0, 0, 0, 0, 0, 0, 0, 0, 0, 0, 0, 0, 0, 0, 0, 0,\n",
       "        0, 0, 0, 0, 0, 0, 0, 0, 0, 0, 0, 0, 0, 0, 0, 0, 0, 0, 0, 0, 0, 0,\n",
       "        0, 0, 0, 0, 0, 0, 0, 0, 0, 0, 0, 0, 0, 0, 0, 0, 0, 0, 0, 0, 0, 0,\n",
       "        0, 0, 0, 1, 0, 0, 0, 0, 0, 0, 0]], dtype=int64)"
      ]
     },
     "execution_count": 65,
     "metadata": {},
     "output_type": "execute_result"
    }
   ],
   "source": [
    "X[0].toarray()"
   ]
  },
  {
   "cell_type": "code",
   "execution_count": 66,
   "metadata": {},
   "outputs": [],
   "source": [
    "import re \n",
    "corpus=[]\n",
    "for i in range(len(sentences)):\n",
    "    review=re.sub('[^a-zA-Z]',' ',sentences[i]) # remove non alphabetic characters\n",
    "    review= review.lower() #making the words lowercase\n",
    "    review = review.split() \n",
    "    review = [lemmatizer.lemmatize(word) for word in review if word not in set(stopwords.words('english'))]\n",
    "    review =' '.join(review)\n",
    "    corpus.append(review)"
   ]
  },
  {
   "cell_type": "code",
   "execution_count": 68,
   "metadata": {},
   "outputs": [
    {
     "data": {
      "text/plain": [
       "['cognitive ai',\n",
       " 'cognitive ai also referred cognitive artificial intelligence software try think learn imitating way human brain work',\n",
       " 'us natural language processing nlp machine learning ml attempt understand human intention behind query deliver relevant response',\n",
       " 'response result searching vast quantity data delivered language human would use',\n",
       " 'cognitive ai commonly used improve problem solving decision making communication',\n",
       " 'cognitive ai different retrieval augmented generation rag ai rag combine strength generative ai retrieval ai different generative ai produce accurate context aware result user prompt seems difference cognitive computing defined source agree combination computer science cognitive science subset artificial intelligence ai attempt mimic way human brain work',\n",
       " 'definition cognitive computing range include technology based scientific principle behind artificial intelligence signal processing encompassing machine self learning human computer interaction natural language processing data mining technopia system learn scale reason purpose interact human naturally ibm cognitive computing system capable synthesizing data diverse information source respond query',\n",
       " 'system take conflicting evidence context account providing answer help human make informed decision']"
      ]
     },
     "execution_count": 68,
     "metadata": {},
     "output_type": "execute_result"
    }
   ],
   "source": [
    "corpus"
   ]
  },
  {
   "cell_type": "code",
   "execution_count": null,
   "metadata": {},
   "outputs": [],
   "source": []
  }
 ],
 "metadata": {
  "kernelspec": {
   "display_name": "Python 3",
   "language": "python",
   "name": "python3"
  },
  "language_info": {
   "codemirror_mode": {
    "name": "ipython",
    "version": 3
   },
   "file_extension": ".py",
   "mimetype": "text/x-python",
   "name": "python",
   "nbconvert_exporter": "python",
   "pygments_lexer": "ipython3",
   "version": "undefined.undefined.undefined"
  }
 },
 "nbformat": 4,
 "nbformat_minor": 2
}
