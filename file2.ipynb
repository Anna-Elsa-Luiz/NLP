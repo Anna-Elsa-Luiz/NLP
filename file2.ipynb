{
 "cells": [
  {
   "cell_type": "markdown",
   "metadata": {},
   "source": [
    "# Word2vec"
   ]
  },
  {
   "cell_type": "code",
   "execution_count": 1,
   "metadata": {},
   "outputs": [
    {
     "name": "stdout",
     "output_type": "stream",
     "text": [
      "Defaulting to user installation because normal site-packages is not writeable\n",
      "Requirement already satisfied: gensim in d:\\anaconda\\lib\\site-packages (4.3.0)\n",
      "Requirement already satisfied: numpy>=1.18.5 in d:\\anaconda\\lib\\site-packages (from gensim) (1.24.3)\n",
      "Requirement already satisfied: scipy>=1.7.0 in d:\\anaconda\\lib\\site-packages (from gensim) (1.10.1)\n",
      "Requirement already satisfied: smart-open>=1.8.1 in d:\\anaconda\\lib\\site-packages (from gensim) (5.2.1)\n",
      "Requirement already satisfied: FuzzyTM>=0.4.0 in c:\\users\\hp\\appdata\\roaming\\python\\python311\\site-packages (from gensim) (2.0.5)\n",
      "Requirement already satisfied: pandas in d:\\anaconda\\lib\\site-packages (from FuzzyTM>=0.4.0->gensim) (1.5.3)\n",
      "Requirement already satisfied: pyfume in c:\\users\\hp\\appdata\\roaming\\python\\python311\\site-packages (from FuzzyTM>=0.4.0->gensim) (0.3.1)\n",
      "Requirement already satisfied: python-dateutil>=2.8.1 in d:\\anaconda\\lib\\site-packages (from pandas->FuzzyTM>=0.4.0->gensim) (2.8.2)\n",
      "Requirement already satisfied: pytz>=2020.1 in d:\\anaconda\\lib\\site-packages (from pandas->FuzzyTM>=0.4.0->gensim) (2022.7)\n",
      "Requirement already satisfied: simpful in c:\\users\\hp\\appdata\\roaming\\python\\python311\\site-packages (from pyfume->FuzzyTM>=0.4.0->gensim) (2.12.0)\n",
      "Requirement already satisfied: fst-pso in c:\\users\\hp\\appdata\\roaming\\python\\python311\\site-packages (from pyfume->FuzzyTM>=0.4.0->gensim) (1.8.1)\n",
      "Requirement already satisfied: typing-extensions in c:\\users\\hp\\appdata\\roaming\\python\\python311\\site-packages (from pyfume->FuzzyTM>=0.4.0->gensim) (4.8.0)\n",
      "Requirement already satisfied: six>=1.5 in c:\\users\\hp\\appdata\\roaming\\python\\python311\\site-packages (from python-dateutil>=2.8.1->pandas->FuzzyTM>=0.4.0->gensim) (1.15.0)\n",
      "Requirement already satisfied: miniful in c:\\users\\hp\\appdata\\roaming\\python\\python311\\site-packages (from fst-pso->pyfume->FuzzyTM>=0.4.0->gensim) (0.0.6)\n"
     ]
    }
   ],
   "source": [
    "!pip install gensim"
   ]
  },
  {
   "cell_type": "code",
   "execution_count": 2,
   "metadata": {},
   "outputs": [
    {
     "name": "stdout",
     "output_type": "stream",
     "text": [
      "Requirement already satisfied: gensim in c:\\users\\hp\\appdata\\local\\programs\\python\\python311\\lib\\site-packages (4.3.2)Note: you may need to restart the kernel to use updated packages.\n",
      "\n",
      "Requirement already satisfied: numpy>=1.18.5 in c:\\users\\hp\\appdata\\local\\programs\\python\\python311\\lib\\site-packages (from gensim) (1.25.1)\n",
      "Requirement already satisfied: scipy>=1.7.0 in c:\\users\\hp\\appdata\\local\\programs\\python\\python311\\lib\\site-packages (from gensim) (1.11.3)\n",
      "Requirement already satisfied: smart-open>=1.8.1 in c:\\users\\hp\\appdata\\local\\programs\\python\\python311\\lib\\site-packages (from gensim) (7.0.4)\n",
      "Requirement already satisfied: wrapt in c:\\users\\hp\\appdata\\local\\programs\\python\\python311\\lib\\site-packages (from smart-open>=1.8.1->gensim) (1.16.0)\n"
     ]
    }
   ],
   "source": [
    "pip install gensim\n"
   ]
  },
  {
   "cell_type": "code",
   "execution_count": 3,
   "metadata": {},
   "outputs": [],
   "source": [
    "import gensim"
   ]
  },
  {
   "cell_type": "code",
   "execution_count": 4,
   "metadata": {},
   "outputs": [],
   "source": [
    "from gensim.models import word2vec, KeyedVectors"
   ]
  },
  {
   "cell_type": "code",
   "execution_count": 5,
   "metadata": {},
   "outputs": [
    {
     "name": "stdout",
     "output_type": "stream",
     "text": [
      "[==================================================] 100.0% 1662.8/1662.8MB downloaded\n"
     ]
    }
   ],
   "source": [
    "import gensim.downloader as api\n",
    "\n",
    "wv = api.load('word2vec-google-news-300')\n",
    "\n",
    "vec_king = wv['King']"
   ]
  },
  {
   "cell_type": "code",
   "execution_count": 6,
   "metadata": {},
   "outputs": [
    {
     "data": {
      "text/plain": [
       "array([-0.00350952,  0.01623535, -0.08154297,  0.12792969,  0.11230469,\n",
       "       -0.00534058,  0.03063965,  0.04931641,  0.22070312,  0.07373047,\n",
       "       -0.13769531,  0.16210938,  0.02148438, -0.09375   , -0.12792969,\n",
       "       -0.12402344, -0.11132812,  0.11816406, -0.07861328,  0.25390625,\n",
       "        0.01794434,  0.14160156,  0.0612793 , -0.08691406,  0.07763672,\n",
       "        0.05175781, -0.24609375, -0.17578125,  0.14746094,  0.06640625,\n",
       "       -0.03833008, -0.09033203, -0.07226562,  0.09375   , -0.18847656,\n",
       "        0.06347656,  0.24121094,  0.00714111, -0.30273438, -0.02478027,\n",
       "       -0.09619141, -0.30859375, -0.06054688,  0.22167969,  0.07763672,\n",
       "        0.05834961,  0.15527344, -0.13476562, -0.00341797, -0.13964844,\n",
       "       -0.02905273,  0.03833008, -0.15332031, -0.20996094,  0.21679688,\n",
       "        0.01171875, -0.078125  ,  0.00402832, -0.23535156, -0.10400391,\n",
       "        0.08837891,  0.25976562,  0.02709961,  0.01123047,  0.12988281,\n",
       "       -0.11914062, -0.07861328, -0.04736328, -0.06591797,  0.07958984,\n",
       "        0.04321289, -0.14355469,  0.04150391,  0.20410156,  0.05493164,\n",
       "       -0.06030273,  0.10107422, -0.00439453,  0.32617188, -0.05712891,\n",
       "       -0.09130859,  0.20019531,  0.02941895, -0.11230469,  0.06054688,\n",
       "       -0.00982666, -0.30664062, -0.02514648,  0.14355469,  0.07275391,\n",
       "        0.09716797, -0.09179688, -0.20410156, -0.21875   ,  0.07128906,\n",
       "        0.16503906, -0.01300049,  0.10888672, -0.09326172, -0.07568359,\n",
       "       -0.07568359, -0.15136719,  0.0625    , -0.09179688,  0.06176758,\n",
       "        0.01086426, -0.21484375, -0.12353516,  0.14453125,  0.02001953,\n",
       "        0.07910156,  0.33398438,  0.06640625, -0.08056641,  0.16699219,\n",
       "       -0.2421875 ,  0.0090332 , -0.14453125,  0.18066406,  0.21289062,\n",
       "        0.04077148,  0.171875  , -0.03100586, -0.12597656, -0.0625    ,\n",
       "       -0.13476562, -0.15820312,  0.11816406, -0.06591797, -0.10058594,\n",
       "       -0.15234375,  0.14550781, -0.14941406,  0.22070312,  0.04907227,\n",
       "        0.01281738,  0.00927734,  0.20019531, -0.15429688,  0.16308594,\n",
       "       -0.04907227, -0.16015625,  0.0177002 , -0.08544922,  0.23828125,\n",
       "       -0.11572266,  0.08154297, -0.38867188, -0.19433594,  0.33203125,\n",
       "       -0.12597656,  0.02819824,  0.14550781, -0.14160156,  0.08105469,\n",
       "        0.09619141, -0.00897217, -0.15332031,  0.15332031, -0.0088501 ,\n",
       "       -0.10498047,  0.04638672,  0.25195312,  0.09179688, -0.0300293 ,\n",
       "       -0.14355469, -0.01123047, -0.11865234,  0.12109375,  0.11572266,\n",
       "       -0.00640869,  0.05419922,  0.06884766, -0.08837891,  0.04589844,\n",
       "        0.00335693, -0.18164062,  0.02160645, -0.04370117, -0.0559082 ,\n",
       "       -0.13574219, -0.09375   ,  0.02600098, -0.13964844, -0.06542969,\n",
       "       -0.04858398,  0.41796875,  0.18554688,  0.18554688,  0.21875   ,\n",
       "       -0.09277344,  0.23925781,  0.00125885, -0.05102539, -0.20605469,\n",
       "        0.07128906, -0.04418945, -0.08056641,  0.02978516, -0.08007812,\n",
       "       -0.04296875, -0.18945312, -0.05810547, -0.0135498 ,  0.09765625,\n",
       "       -0.10644531, -0.02185059,  0.31445312,  0.04248047,  0.03491211,\n",
       "       -0.07861328,  0.27148438,  0.07275391, -0.12304688,  0.0291748 ,\n",
       "       -0.04736328,  0.11279297, -0.16503906,  0.05224609,  0.06933594,\n",
       "       -0.06542969, -0.02587891,  0.19824219, -0.16601562,  0.13867188,\n",
       "        0.01422119, -0.10791016,  0.0324707 ,  0.03442383,  0.05981445,\n",
       "        0.06738281, -0.01940918, -0.10742188, -0.00454712, -0.27539062,\n",
       "        0.00604248,  0.15917969, -0.06835938,  0.00086975, -0.07177734,\n",
       "        0.0625    , -0.13671875, -0.06591797, -0.23828125, -0.03466797,\n",
       "       -0.08105469, -0.05761719,  0.20410156, -0.01226807, -0.14257812,\n",
       "       -0.16113281,  0.17480469,  0.03662109,  0.12890625,  0.09082031,\n",
       "        0.0546875 , -0.24511719, -0.00866699, -0.05615234, -0.06933594,\n",
       "        0.01916504,  0.11865234, -0.06005859, -0.0859375 ,  0.01940918,\n",
       "       -0.02270508, -0.0612793 ,  0.06982422,  0.17285156,  0.17773438,\n",
       "        0.04370117,  0.05615234,  0.02734375,  0.2578125 ,  0.19433594,\n",
       "       -0.04003906, -0.12158203, -0.10839844, -0.17773438,  0.05249023,\n",
       "       -0.11376953, -0.11230469,  0.27148438, -0.00061417,  0.0168457 ,\n",
       "       -0.11816406, -0.03833008, -0.04223633, -0.12109375, -0.12695312,\n",
       "        0.00222778, -0.20019531, -0.1328125 ,  0.09960938, -0.2734375 ,\n",
       "       -0.328125  , -0.22460938, -0.14746094, -0.02368164,  0.24902344],\n",
       "      dtype=float32)"
      ]
     },
     "execution_count": 6,
     "metadata": {},
     "output_type": "execute_result"
    }
   ],
   "source": [
    "vec_king"
   ]
  },
  {
   "cell_type": "code",
   "execution_count": 7,
   "metadata": {},
   "outputs": [
    {
     "data": {
      "text/plain": [
       "[('woman', 0.7664012908935547),\n",
       " ('boy', 0.6824871301651001),\n",
       " ('teenager', 0.6586930155754089),\n",
       " ('teenage_girl', 0.6147903203964233),\n",
       " ('girl', 0.5921714305877686),\n",
       " ('suspected_purse_snatcher', 0.571636438369751),\n",
       " ('robber', 0.5585119128227234),\n",
       " ('Robbery_suspect', 0.5584409832954407),\n",
       " ('teen_ager', 0.5549196600914001),\n",
       " ('men', 0.5489763021469116)]"
      ]
     },
     "execution_count": 7,
     "metadata": {},
     "output_type": "execute_result"
    }
   ],
   "source": [
    "wv.most_similar('man')"
   ]
  },
  {
   "cell_type": "markdown",
   "metadata": {},
   "source": [
    "Value corresponding to it is Cosine similarity "
   ]
  },
  {
   "cell_type": "code",
   "execution_count": 8,
   "metadata": {},
   "outputs": [
    {
     "data": {
      "text/plain": [
       "[('kings', 0.7138045430183411),\n",
       " ('queen', 0.6510956883430481),\n",
       " ('monarch', 0.6413194537162781),\n",
       " ('crown_prince', 0.6204220056533813),\n",
       " ('prince', 0.6159993410110474),\n",
       " ('sultan', 0.5864824056625366),\n",
       " ('ruler', 0.5797567367553711),\n",
       " ('princes', 0.5646552443504333),\n",
       " ('Prince_Paras', 0.5432944297790527),\n",
       " ('throne', 0.5422105193138123)]"
      ]
     },
     "execution_count": 8,
     "metadata": {},
     "output_type": "execute_result"
    }
   ],
   "source": [
    "wv.most_similar('king')"
   ]
  },
  {
   "cell_type": "code",
   "execution_count": 9,
   "metadata": {},
   "outputs": [
    {
     "data": {
      "text/plain": [
       "0.22942673"
      ]
     },
     "execution_count": 9,
     "metadata": {},
     "output_type": "execute_result"
    }
   ],
   "source": [
    "wv.similarity('man','king')"
   ]
  },
  {
   "cell_type": "code",
   "execution_count": 10,
   "metadata": {},
   "outputs": [
    {
     "data": {
      "text/plain": [
       "0.25811526"
      ]
     },
     "execution_count": 10,
     "metadata": {},
     "output_type": "execute_result"
    }
   ],
   "source": [
    "wv.similarity('html','programmer')"
   ]
  },
  {
   "cell_type": "code",
   "execution_count": 14,
   "metadata": {},
   "outputs": [
    {
     "data": {
      "text/plain": [
       "[('king', 0.4048772156238556),\n",
       " ('kings', 0.30023127794265747),\n",
       " ('Pansy_Ho_Chiu', 0.27302688360214233),\n",
       " ('Hassle_Free_Lead', 0.26562565565109253),\n",
       " ('du_Grand_Controle', 0.2622641623020172),\n",
       " ('conf_C####_TORONTO', 0.2607021629810333),\n",
       " ('Nickerson_Zwaan', 0.25404006242752075),\n",
       " ('José_Luis_Villegas_jvillegas@sacbee.com', 0.24456088244915009),\n",
       " ('Cadec_Mobius_TTS', 0.2437450885772705),\n",
       " ('Bahrain_Sheik_Hamad', 0.23861853778362274)]"
      ]
     },
     "execution_count": 14,
     "metadata": {},
     "output_type": "execute_result"
    }
   ],
   "source": [
    "vec=wv['king']-wv['man']-wv['woman']\n",
    "wv.most_similar([vec])"
   ]
  },
  {
   "cell_type": "code",
   "execution_count": 12,
   "metadata": {},
   "outputs": [
    {
     "data": {
      "text/plain": [
       "[('glad', 0.7408890724182129),\n",
       " ('pleased', 0.6632170677185059),\n",
       " ('ecstatic', 0.6626912355422974),\n",
       " ('overjoyed', 0.6599286794662476),\n",
       " ('thrilled', 0.6514049172401428),\n",
       " ('satisfied', 0.6437949538230896),\n",
       " ('proud', 0.636042058467865),\n",
       " ('delighted', 0.627237856388092),\n",
       " ('disappointed', 0.6269949674606323),\n",
       " ('excited', 0.6247665286064148)]"
      ]
     },
     "execution_count": 12,
     "metadata": {},
     "output_type": "execute_result"
    }
   ],
   "source": [
    "wv.most_similar('happy')"
   ]
  },
  {
   "cell_type": "code",
   "execution_count": 13,
   "metadata": {},
   "outputs": [
    {
     "data": {
      "text/plain": [
       "0.5354614"
      ]
     },
     "execution_count": 13,
     "metadata": {},
     "output_type": "execute_result"
    }
   ],
   "source": [
    "wv.similarity('happy','sad')"
   ]
  },
  {
   "cell_type": "code",
   "execution_count": null,
   "metadata": {},
   "outputs": [],
   "source": []
  }
 ],
 "metadata": {
  "kernelspec": {
   "display_name": "Python 3",
   "language": "python",
   "name": "python3"
  },
  "language_info": {
   "codemirror_mode": {
    "name": "ipython",
    "version": 3
   },
   "file_extension": ".py",
   "mimetype": "text/x-python",
   "name": "python",
   "nbconvert_exporter": "python",
   "pygments_lexer": "ipython3",
   "version": "3.11.4"
  }
 },
 "nbformat": 4,
 "nbformat_minor": 2
}
